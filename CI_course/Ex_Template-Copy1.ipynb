{
 "cells": [
  {
   "cell_type": "markdown",
   "id": "b906c61a-0de0-4ac0-a251-6836bdc4d9f3",
   "metadata": {},
   "source": [
    "# **CI Course - EX[number]**\n",
    "--------\n",
    "--------"
   ]
  },
  {
   "cell_type": "markdown",
   "id": "c82a7302-1164-4a29-a22e-825b76eee87d",
   "metadata": {},
   "source": [
    "## Theory Overview ##\n",
    "\n",
    "bla.. bla..\n",
    "\n",
    "---"
   ]
  },
  {
   "cell_type": "markdown",
   "id": "91b51eb7-0c88-47d8-9ce2-115720b06258",
   "metadata": {},
   "source": [
    "### Heading a ###\n",
    "\n",
    "exercise body\n",
    "\n",
    "---"
   ]
  },
  {
   "cell_type": "markdown",
   "id": "37c83dad-e360-4a93-8085-51e9081a31ef",
   "metadata": {},
   "source": [
    "### Heading b ###\n",
    "\n",
    "exercise body\n",
    "\n",
    "---"
   ]
  },
  {
   "cell_type": "markdown",
   "id": "64d9b093-afc6-40f0-a372-4263ffe0ecd7",
   "metadata": {},
   "source": [
    "## Summary ##\n",
    "\n",
    "bla.. bla..\n",
    "\n",
    "\n",
    "---"
   ]
  },
  {
   "cell_type": "markdown",
   "id": "659cb3d9-cc91-4e67-8a7b-f6273d34b691",
   "metadata": {},
   "source": [
    "## Summary ##\n",
    "\n",
    "bla.. bla..\n",
    "\n",
    "\n",
    "---"
   ]
  }
 ],
 "metadata": {
  "kernelspec": {
   "display_name": "Python [conda env:CI_course01]",
   "language": "python",
   "name": "conda-env-CI_course01-py"
  },
  "language_info": {
   "codemirror_mode": {
    "name": "ipython",
    "version": 3
   },
   "file_extension": ".py",
   "mimetype": "text/x-python",
   "name": "python",
   "nbconvert_exporter": "python",
   "pygments_lexer": "ipython3",
   "version": "3.9.16"
  },
  "toc-autonumbering": true
 },
 "nbformat": 4,
 "nbformat_minor": 5
}
